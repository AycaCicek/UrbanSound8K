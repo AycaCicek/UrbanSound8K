{
  "nbformat": 4,
  "nbformat_minor": 0,
  "metadata": {
    "colab": {
      "provenance": [],
      "collapsed_sections": [],
      "authorship_tag": "ABX9TyNemUDRCwti22jB0aMoBT2Y",
      "include_colab_link": true
    },
    "kernelspec": {
      "name": "python3",
      "display_name": "Python 3"
    },
    "language_info": {
      "name": "python"
    },
    "accelerator": "GPU"
  },
  "cells": [
    {
      "cell_type": "markdown",
      "metadata": {
        "id": "view-in-github",
        "colab_type": "text"
      },
      "source": [
        "<a href=\"https://colab.research.google.com/github/AycaCicek/UrbanSound8K/blob/master/GLOBALAI_project(deeplearning_model).ipynb\" target=\"_parent\"><img src=\"https://colab.research.google.com/assets/colab-badge.svg\" alt=\"Open In Colab\"/></a>"
      ]
    },
    {
      "cell_type": "code",
      "execution_count": 1,
      "metadata": {
        "colab": {
          "base_uri": "https://localhost:8080/"
        },
        "id": "bVEnbfaeW1Ju",
        "outputId": "cf55d444-fd12-4336-d891-d4491a544e00"
      },
      "outputs": [
        {
          "output_type": "stream",
          "name": "stdout",
          "text": [
            "Mounted at /content/drive\n"
          ]
        }
      ],
      "source": [
        "from google.colab import drive \n",
        "drive.mount(\"/content/drive\")"
      ]
    },
    {
      "cell_type": "code",
      "source": [
        "import os  \n",
        "os.environ['KAGGLE_CONFIG_DIR'] = \"/content/drive/MyDrive/kaggle\""
      ],
      "metadata": {
        "id": "UAwuA1H3Xyk2"
      },
      "execution_count": 2,
      "outputs": []
    },
    {
      "cell_type": "code",
      "source": [
        "import pickle\n",
        "import numpy as np"
      ],
      "metadata": {
        "id": "cjz5aEfpYz31"
      },
      "execution_count": 3,
      "outputs": []
    },
    {
      "cell_type": "code",
      "source": [
        "pickle_in = open(\"/content/drive/MyDrive/kaggle/X.pickle\",\"rb\")\n",
        "X = pickle.load(pickle_in)\n",
        "\n",
        "pickle_in = open(\"/content/drive/MyDrive/kaggle/y.pickle\",\"rb\")\n",
        "y = pickle.load(pickle_in)"
      ],
      "metadata": {
        "id": "Jv2iNu-DoexO"
      },
      "execution_count": 4,
      "outputs": []
    },
    {
      "cell_type": "code",
      "source": [
        "input_shape=X.shape[1:]\n",
        "input_shape"
      ],
      "metadata": {
        "colab": {
          "base_uri": "https://localhost:8080/"
        },
        "id": "Pro97tDCw02t",
        "outputId": "a6cf903a-13cf-424d-b259-4bdab5d9379a"
      },
      "execution_count": 5,
      "outputs": [
        {
          "output_type": "execute_result",
          "data": {
            "text/plain": [
              "(64, 64, 1)"
            ]
          },
          "metadata": {},
          "execution_count": 5
        }
      ]
    },
    {
      "cell_type": "code",
      "source": [
        "X_train=np.load('/content/drive/MyDrive/kaggle/X_train.npy')\n",
        "y_train=np.load('/content/drive/MyDrive/kaggle/y_train.npy')\n",
        "X_val=np.load('/content/drive/MyDrive/kaggle/X_val.npy')\n",
        "X_test=np.load('/content/drive/MyDrive/kaggle/X_test.npy')\n",
        "y_val=np.load('/content/drive/MyDrive/kaggle/y_val.npy')\n",
        "y_test=np.load('/content/drive/MyDrive/kaggle/y_test.npy')"
      ],
      "metadata": {
        "id": "oR1lxsJDGf-g"
      },
      "execution_count": 6,
      "outputs": []
    },
    {
      "cell_type": "code",
      "source": [
        "X_train.shape"
      ],
      "metadata": {
        "colab": {
          "base_uri": "https://localhost:8080/"
        },
        "id": "YodTsJPvHND7",
        "outputId": "5dbf8db1-067e-4765-a583-c5f03234ce16"
      },
      "execution_count": 7,
      "outputs": [
        {
          "output_type": "execute_result",
          "data": {
            "text/plain": [
              "(6985, 64, 64, 1)"
            ]
          },
          "metadata": {},
          "execution_count": 7
        }
      ]
    },
    {
      "cell_type": "code",
      "source": [
        "import tensorflow as tf\n",
        "from tensorflow.keras.datasets import cifar10\n",
        "from tensorflow.keras.preprocessing.image import ImageDataGenerator\n",
        "from tensorflow.keras.models import Sequential\n",
        "from tensorflow.keras.layers import Dense, Dropout, Activation, Flatten,BatchNormalization\n",
        "from tensorflow.keras.layers import Conv2D, MaxPooling2D\n",
        "from tensorflow.keras.callbacks import TensorBoard"
      ],
      "metadata": {
        "id": "iCWOlw9EZVlM"
      },
      "execution_count": 8,
      "outputs": []
    },
    {
      "cell_type": "code",
      "source": [
        "model=Sequential()\n",
        "##############################################################333\n",
        "model.add(Conv2D(32,(3,3),input_shape=X_train.shape[1:]))\n",
        "model.add(Activation('relu'))\n",
        "model.add(BatchNormalization())\n",
        "model.add(MaxPooling2D(pool_size=(2,2)))\n",
        "#BİRİNCİ CNN\n",
        "model.add(Conv2D(32,(3,3)))\n",
        "model.add(Activation('relu'))\n",
        "model.add(BatchNormalization())\n",
        "model.add(MaxPooling2D(pool_size=(2,2)))\n",
        "#İKİNCİ CNN\n",
        "model.add(Conv2D(32,(3,3)))\n",
        "model.add(Activation('relu'))\n",
        "model.add(BatchNormalization())\n",
        "model.add(MaxPooling2D(pool_size=(2,2)))\n",
        "#ÜÇÜNCÜ CNN\n",
        "model.add(Conv2D(32,(3,3)))\n",
        "model.add(Activation('relu'))\n",
        "model.add(BatchNormalization())\n",
        "model.add(MaxPooling2D(pool_size=(2,2)))\n",
        "\n",
        "model.add(Flatten())\n",
        "model.add(Dropout(0.5))\n",
        "\n",
        "model.add(Dense(64,activation='relu'))\n",
        "\n",
        "model.add(BatchNormalization())\n",
        "model.add(Dense(10,activation='softmax'))\n",
        "\n",
        "model.compile(loss='categorical_crossentropy',optimizer='adam',metrics=['accuracy'])\n",
        "\n",
        "history=model.fit(X_train, y_train,epochs=100,validation_data = (X_val , y_val))"
      ],
      "metadata": {
        "colab": {
          "base_uri": "https://localhost:8080/"
        },
        "id": "J6k9BC7KHjPt",
        "outputId": "f7b1f763-e97d-4e28-cbb5-28f882b91dea"
      },
      "execution_count": 11,
      "outputs": [
        {
          "output_type": "stream",
          "name": "stdout",
          "text": [
            "Epoch 1/100\n",
            "219/219 [==============================] - 15s 9ms/step - loss: 1.7858 - accuracy: 0.3857 - val_loss: 3.6871 - val_accuracy: 0.1168\n",
            "Epoch 2/100\n",
            "219/219 [==============================] - 2s 8ms/step - loss: 1.2342 - accuracy: 0.5675 - val_loss: 2.2344 - val_accuracy: 0.3379\n",
            "Epoch 3/100\n",
            "219/219 [==============================] - 2s 8ms/step - loss: 1.0289 - accuracy: 0.6480 - val_loss: 0.9612 - val_accuracy: 0.6861\n",
            "Epoch 4/100\n",
            "219/219 [==============================] - 2s 7ms/step - loss: 0.9079 - accuracy: 0.6872 - val_loss: 0.8188 - val_accuracy: 0.7239\n",
            "Epoch 5/100\n",
            "219/219 [==============================] - 2s 7ms/step - loss: 0.8153 - accuracy: 0.7273 - val_loss: 1.1651 - val_accuracy: 0.6369\n",
            "Epoch 6/100\n",
            "219/219 [==============================] - 2s 8ms/step - loss: 0.7740 - accuracy: 0.7412 - val_loss: 0.9884 - val_accuracy: 0.6564\n",
            "Epoch 7/100\n",
            "219/219 [==============================] - 2s 8ms/step - loss: 0.6925 - accuracy: 0.7651 - val_loss: 0.6756 - val_accuracy: 0.7755\n",
            "Epoch 8/100\n",
            "219/219 [==============================] - 2s 8ms/step - loss: 0.6367 - accuracy: 0.7832 - val_loss: 0.6415 - val_accuracy: 0.8041\n",
            "Epoch 9/100\n",
            "219/219 [==============================] - 2s 7ms/step - loss: 0.5976 - accuracy: 0.8059 - val_loss: 0.8777 - val_accuracy: 0.6953\n",
            "Epoch 10/100\n",
            "219/219 [==============================] - 2s 8ms/step - loss: 0.5645 - accuracy: 0.8092 - val_loss: 0.5983 - val_accuracy: 0.8053\n",
            "Epoch 11/100\n",
            "219/219 [==============================] - 2s 8ms/step - loss: 0.5458 - accuracy: 0.8150 - val_loss: 0.5868 - val_accuracy: 0.8213\n",
            "Epoch 12/100\n",
            "219/219 [==============================] - 2s 7ms/step - loss: 0.5014 - accuracy: 0.8315 - val_loss: 0.4979 - val_accuracy: 0.8591\n",
            "Epoch 13/100\n",
            "219/219 [==============================] - 2s 7ms/step - loss: 0.4933 - accuracy: 0.8345 - val_loss: 0.7573 - val_accuracy: 0.7549\n",
            "Epoch 14/100\n",
            "219/219 [==============================] - 2s 7ms/step - loss: 0.4489 - accuracy: 0.8514 - val_loss: 0.5722 - val_accuracy: 0.8499\n",
            "Epoch 15/100\n",
            "219/219 [==============================] - 2s 7ms/step - loss: 0.4559 - accuracy: 0.8495 - val_loss: 0.5936 - val_accuracy: 0.8179\n",
            "Epoch 16/100\n",
            "219/219 [==============================] - 2s 7ms/step - loss: 0.4160 - accuracy: 0.8596 - val_loss: 0.6284 - val_accuracy: 0.7950\n",
            "Epoch 17/100\n",
            "219/219 [==============================] - 2s 7ms/step - loss: 0.4030 - accuracy: 0.8687 - val_loss: 0.4594 - val_accuracy: 0.8534\n",
            "Epoch 18/100\n",
            "219/219 [==============================] - 2s 7ms/step - loss: 0.3890 - accuracy: 0.8720 - val_loss: 0.4806 - val_accuracy: 0.8488\n",
            "Epoch 19/100\n",
            "219/219 [==============================] - 2s 8ms/step - loss: 0.3747 - accuracy: 0.8746 - val_loss: 0.5709 - val_accuracy: 0.8339\n",
            "Epoch 20/100\n",
            "219/219 [==============================] - 2s 7ms/step - loss: 0.3695 - accuracy: 0.8780 - val_loss: 1.0824 - val_accuracy: 0.7194\n",
            "Epoch 21/100\n",
            "219/219 [==============================] - 2s 7ms/step - loss: 0.3527 - accuracy: 0.8797 - val_loss: 0.6048 - val_accuracy: 0.8007\n",
            "Epoch 22/100\n",
            "219/219 [==============================] - 2s 7ms/step - loss: 0.3286 - accuracy: 0.8846 - val_loss: 0.4716 - val_accuracy: 0.8557\n",
            "Epoch 23/100\n",
            "219/219 [==============================] - 2s 7ms/step - loss: 0.3071 - accuracy: 0.8969 - val_loss: 0.7347 - val_accuracy: 0.7721\n",
            "Epoch 24/100\n",
            "219/219 [==============================] - 2s 7ms/step - loss: 0.3069 - accuracy: 0.8998 - val_loss: 0.4207 - val_accuracy: 0.8683\n",
            "Epoch 25/100\n",
            "219/219 [==============================] - 2s 7ms/step - loss: 0.3159 - accuracy: 0.8873 - val_loss: 0.4269 - val_accuracy: 0.8751\n",
            "Epoch 26/100\n",
            "219/219 [==============================] - 2s 7ms/step - loss: 0.3032 - accuracy: 0.8968 - val_loss: 0.5871 - val_accuracy: 0.8328\n",
            "Epoch 27/100\n",
            "219/219 [==============================] - 2s 7ms/step - loss: 0.2799 - accuracy: 0.9041 - val_loss: 0.4538 - val_accuracy: 0.8545\n",
            "Epoch 28/100\n",
            "219/219 [==============================] - 2s 7ms/step - loss: 0.2918 - accuracy: 0.8991 - val_loss: 0.4668 - val_accuracy: 0.8625\n",
            "Epoch 29/100\n",
            "219/219 [==============================] - 2s 7ms/step - loss: 0.2569 - accuracy: 0.9115 - val_loss: 0.6068 - val_accuracy: 0.8213\n",
            "Epoch 30/100\n",
            "219/219 [==============================] - 2s 7ms/step - loss: 0.2718 - accuracy: 0.9088 - val_loss: 0.5145 - val_accuracy: 0.8545\n",
            "Epoch 31/100\n",
            "219/219 [==============================] - 2s 7ms/step - loss: 0.2695 - accuracy: 0.9097 - val_loss: 0.4012 - val_accuracy: 0.8809\n",
            "Epoch 32/100\n",
            "219/219 [==============================] - 2s 7ms/step - loss: 0.2429 - accuracy: 0.9184 - val_loss: 0.9202 - val_accuracy: 0.7652\n",
            "Epoch 33/100\n",
            "219/219 [==============================] - 2s 7ms/step - loss: 0.2344 - accuracy: 0.9214 - val_loss: 0.3867 - val_accuracy: 0.8797\n",
            "Epoch 34/100\n",
            "219/219 [==============================] - 2s 7ms/step - loss: 0.2328 - accuracy: 0.9184 - val_loss: 0.4879 - val_accuracy: 0.8454\n",
            "Epoch 35/100\n",
            "219/219 [==============================] - 2s 8ms/step - loss: 0.2226 - accuracy: 0.9244 - val_loss: 0.4750 - val_accuracy: 0.8671\n",
            "Epoch 36/100\n",
            "219/219 [==============================] - 2s 7ms/step - loss: 0.2191 - accuracy: 0.9270 - val_loss: 0.4484 - val_accuracy: 0.8694\n",
            "Epoch 37/100\n",
            "219/219 [==============================] - 2s 7ms/step - loss: 0.2358 - accuracy: 0.9191 - val_loss: 0.4136 - val_accuracy: 0.8717\n",
            "Epoch 38/100\n",
            "219/219 [==============================] - 2s 8ms/step - loss: 0.2258 - accuracy: 0.9168 - val_loss: 0.6089 - val_accuracy: 0.8270\n",
            "Epoch 39/100\n",
            "219/219 [==============================] - 2s 8ms/step - loss: 0.2365 - accuracy: 0.9193 - val_loss: 0.4443 - val_accuracy: 0.8660\n",
            "Epoch 40/100\n",
            "219/219 [==============================] - 2s 8ms/step - loss: 0.1951 - accuracy: 0.9326 - val_loss: 0.4908 - val_accuracy: 0.8740\n",
            "Epoch 41/100\n",
            "219/219 [==============================] - 2s 8ms/step - loss: 0.1977 - accuracy: 0.9344 - val_loss: 0.4686 - val_accuracy: 0.8740\n",
            "Epoch 42/100\n",
            "219/219 [==============================] - 2s 7ms/step - loss: 0.2073 - accuracy: 0.9317 - val_loss: 0.4103 - val_accuracy: 0.8946\n",
            "Epoch 43/100\n",
            "219/219 [==============================] - 2s 7ms/step - loss: 0.2073 - accuracy: 0.9301 - val_loss: 0.4472 - val_accuracy: 0.8809\n",
            "Epoch 44/100\n",
            "219/219 [==============================] - 2s 7ms/step - loss: 0.1845 - accuracy: 0.9363 - val_loss: 0.4294 - val_accuracy: 0.8820\n",
            "Epoch 45/100\n",
            "219/219 [==============================] - 2s 7ms/step - loss: 0.2023 - accuracy: 0.9319 - val_loss: 0.7371 - val_accuracy: 0.8030\n",
            "Epoch 46/100\n",
            "219/219 [==============================] - 2s 8ms/step - loss: 0.1770 - accuracy: 0.9397 - val_loss: 0.5547 - val_accuracy: 0.8545\n",
            "Epoch 47/100\n",
            "219/219 [==============================] - 2s 7ms/step - loss: 0.1899 - accuracy: 0.9329 - val_loss: 0.5189 - val_accuracy: 0.8603\n",
            "Epoch 48/100\n",
            "219/219 [==============================] - 2s 7ms/step - loss: 0.1813 - accuracy: 0.9383 - val_loss: 0.4117 - val_accuracy: 0.8763\n",
            "Epoch 49/100\n",
            "219/219 [==============================] - 2s 7ms/step - loss: 0.1774 - accuracy: 0.9346 - val_loss: 0.4564 - val_accuracy: 0.8671\n",
            "Epoch 50/100\n",
            "219/219 [==============================] - 2s 7ms/step - loss: 0.1680 - accuracy: 0.9400 - val_loss: 0.7811 - val_accuracy: 0.7938\n",
            "Epoch 51/100\n",
            "219/219 [==============================] - 2s 7ms/step - loss: 0.1704 - accuracy: 0.9424 - val_loss: 0.4283 - val_accuracy: 0.8889\n",
            "Epoch 52/100\n",
            "219/219 [==============================] - 2s 7ms/step - loss: 0.1620 - accuracy: 0.9440 - val_loss: 0.5045 - val_accuracy: 0.8763\n",
            "Epoch 53/100\n",
            "219/219 [==============================] - 2s 7ms/step - loss: 0.1471 - accuracy: 0.9497 - val_loss: 0.4765 - val_accuracy: 0.8786\n",
            "Epoch 54/100\n",
            "219/219 [==============================] - 2s 8ms/step - loss: 0.1608 - accuracy: 0.9460 - val_loss: 0.4432 - val_accuracy: 0.8729\n",
            "Epoch 55/100\n",
            "219/219 [==============================] - 2s 8ms/step - loss: 0.1531 - accuracy: 0.9475 - val_loss: 0.4527 - val_accuracy: 0.8843\n",
            "Epoch 56/100\n",
            "219/219 [==============================] - 2s 7ms/step - loss: 0.1621 - accuracy: 0.9426 - val_loss: 0.4649 - val_accuracy: 0.8751\n",
            "Epoch 57/100\n",
            "219/219 [==============================] - 2s 7ms/step - loss: 0.1530 - accuracy: 0.9495 - val_loss: 0.5134 - val_accuracy: 0.8774\n",
            "Epoch 58/100\n",
            "219/219 [==============================] - 2s 9ms/step - loss: 0.1536 - accuracy: 0.9463 - val_loss: 0.4224 - val_accuracy: 0.8912\n",
            "Epoch 59/100\n",
            "219/219 [==============================] - 2s 10ms/step - loss: 0.1505 - accuracy: 0.9469 - val_loss: 0.4671 - val_accuracy: 0.8740\n",
            "Epoch 60/100\n",
            "219/219 [==============================] - 2s 8ms/step - loss: 0.1571 - accuracy: 0.9449 - val_loss: 0.5677 - val_accuracy: 0.8511\n",
            "Epoch 61/100\n",
            "219/219 [==============================] - 2s 7ms/step - loss: 0.1404 - accuracy: 0.9532 - val_loss: 0.6725 - val_accuracy: 0.8373\n",
            "Epoch 62/100\n",
            "219/219 [==============================] - 2s 7ms/step - loss: 0.1348 - accuracy: 0.9523 - val_loss: 0.5056 - val_accuracy: 0.8648\n",
            "Epoch 63/100\n",
            "219/219 [==============================] - 2s 8ms/step - loss: 0.1416 - accuracy: 0.9509 - val_loss: 0.6795 - val_accuracy: 0.8339\n",
            "Epoch 64/100\n",
            "219/219 [==============================] - 2s 7ms/step - loss: 0.1531 - accuracy: 0.9473 - val_loss: 0.6066 - val_accuracy: 0.8545\n",
            "Epoch 65/100\n",
            "219/219 [==============================] - 2s 7ms/step - loss: 0.1288 - accuracy: 0.9552 - val_loss: 0.4517 - val_accuracy: 0.8797\n",
            "Epoch 66/100\n",
            "219/219 [==============================] - 2s 7ms/step - loss: 0.1319 - accuracy: 0.9550 - val_loss: 0.6107 - val_accuracy: 0.8671\n",
            "Epoch 67/100\n",
            "219/219 [==============================] - 2s 8ms/step - loss: 0.1176 - accuracy: 0.9593 - val_loss: 0.5146 - val_accuracy: 0.8786\n",
            "Epoch 68/100\n",
            "219/219 [==============================] - 2s 7ms/step - loss: 0.1294 - accuracy: 0.9535 - val_loss: 0.4606 - val_accuracy: 0.8843\n",
            "Epoch 69/100\n",
            "219/219 [==============================] - 2s 8ms/step - loss: 0.1296 - accuracy: 0.9549 - val_loss: 0.4978 - val_accuracy: 0.8820\n",
            "Epoch 70/100\n",
            "219/219 [==============================] - 2s 7ms/step - loss: 0.1343 - accuracy: 0.9542 - val_loss: 0.5087 - val_accuracy: 0.8774\n",
            "Epoch 71/100\n",
            "219/219 [==============================] - 2s 7ms/step - loss: 0.1350 - accuracy: 0.9532 - val_loss: 0.5080 - val_accuracy: 0.8774\n",
            "Epoch 72/100\n",
            "219/219 [==============================] - 2s 8ms/step - loss: 0.1239 - accuracy: 0.9572 - val_loss: 0.7239 - val_accuracy: 0.8076\n",
            "Epoch 73/100\n",
            "219/219 [==============================] - 2s 8ms/step - loss: 0.1297 - accuracy: 0.9559 - val_loss: 0.5154 - val_accuracy: 0.8694\n",
            "Epoch 74/100\n",
            "219/219 [==============================] - 2s 7ms/step - loss: 0.1175 - accuracy: 0.9599 - val_loss: 0.4877 - val_accuracy: 0.8763\n",
            "Epoch 75/100\n",
            "219/219 [==============================] - 2s 8ms/step - loss: 0.1113 - accuracy: 0.9608 - val_loss: 0.5682 - val_accuracy: 0.8751\n",
            "Epoch 76/100\n",
            "219/219 [==============================] - 2s 7ms/step - loss: 0.1148 - accuracy: 0.9613 - val_loss: 0.4849 - val_accuracy: 0.8729\n",
            "Epoch 77/100\n",
            "219/219 [==============================] - 2s 8ms/step - loss: 0.1043 - accuracy: 0.9638 - val_loss: 0.9148 - val_accuracy: 0.7606\n",
            "Epoch 78/100\n",
            "219/219 [==============================] - 2s 9ms/step - loss: 0.1091 - accuracy: 0.9644 - val_loss: 0.4517 - val_accuracy: 0.8820\n",
            "Epoch 79/100\n",
            "219/219 [==============================] - 2s 8ms/step - loss: 0.1310 - accuracy: 0.9569 - val_loss: 0.5553 - val_accuracy: 0.8625\n",
            "Epoch 80/100\n",
            "219/219 [==============================] - 2s 7ms/step - loss: 0.1209 - accuracy: 0.9560 - val_loss: 0.4387 - val_accuracy: 0.9026\n",
            "Epoch 81/100\n",
            "219/219 [==============================] - 2s 7ms/step - loss: 0.1129 - accuracy: 0.9616 - val_loss: 0.4518 - val_accuracy: 0.9015\n",
            "Epoch 82/100\n",
            "219/219 [==============================] - 2s 8ms/step - loss: 0.1043 - accuracy: 0.9645 - val_loss: 0.4714 - val_accuracy: 0.8809\n",
            "Epoch 83/100\n",
            "219/219 [==============================] - 2s 7ms/step - loss: 0.1102 - accuracy: 0.9622 - val_loss: 0.4505 - val_accuracy: 0.8877\n",
            "Epoch 84/100\n",
            "219/219 [==============================] - 2s 8ms/step - loss: 0.1091 - accuracy: 0.9625 - val_loss: 0.5933 - val_accuracy: 0.8843\n",
            "Epoch 85/100\n",
            "219/219 [==============================] - 2s 9ms/step - loss: 0.1060 - accuracy: 0.9611 - val_loss: 0.6492 - val_accuracy: 0.8396\n",
            "Epoch 86/100\n",
            "219/219 [==============================] - 2s 8ms/step - loss: 0.1239 - accuracy: 0.9593 - val_loss: 0.6221 - val_accuracy: 0.8522\n",
            "Epoch 87/100\n",
            "219/219 [==============================] - 2s 7ms/step - loss: 0.1072 - accuracy: 0.9631 - val_loss: 0.5493 - val_accuracy: 0.8740\n",
            "Epoch 88/100\n",
            "219/219 [==============================] - 2s 7ms/step - loss: 0.1145 - accuracy: 0.9603 - val_loss: 0.5070 - val_accuracy: 0.8820\n",
            "Epoch 89/100\n",
            "219/219 [==============================] - 2s 7ms/step - loss: 0.1222 - accuracy: 0.9588 - val_loss: 0.7638 - val_accuracy: 0.8454\n",
            "Epoch 90/100\n",
            "219/219 [==============================] - 2s 9ms/step - loss: 0.1087 - accuracy: 0.9623 - val_loss: 0.4849 - val_accuracy: 0.8706\n",
            "Epoch 91/100\n",
            "219/219 [==============================] - 2s 8ms/step - loss: 0.1125 - accuracy: 0.9619 - val_loss: 0.9546 - val_accuracy: 0.7973\n",
            "Epoch 92/100\n",
            "219/219 [==============================] - 2s 8ms/step - loss: 0.1015 - accuracy: 0.9669 - val_loss: 0.4869 - val_accuracy: 0.8763\n",
            "Epoch 93/100\n",
            "219/219 [==============================] - 2s 7ms/step - loss: 0.1068 - accuracy: 0.9623 - val_loss: 0.6054 - val_accuracy: 0.8625\n",
            "Epoch 94/100\n",
            "219/219 [==============================] - 2s 7ms/step - loss: 0.0982 - accuracy: 0.9672 - val_loss: 0.6491 - val_accuracy: 0.8477\n",
            "Epoch 95/100\n",
            "219/219 [==============================] - 2s 7ms/step - loss: 0.1026 - accuracy: 0.9655 - val_loss: 0.5544 - val_accuracy: 0.8717\n",
            "Epoch 96/100\n",
            "219/219 [==============================] - 2s 8ms/step - loss: 0.0929 - accuracy: 0.9698 - val_loss: 0.5747 - val_accuracy: 0.8729\n",
            "Epoch 97/100\n",
            "219/219 [==============================] - 2s 8ms/step - loss: 0.1185 - accuracy: 0.9578 - val_loss: 0.5939 - val_accuracy: 0.8671\n",
            "Epoch 98/100\n",
            "219/219 [==============================] - 2s 8ms/step - loss: 0.0938 - accuracy: 0.9699 - val_loss: 0.5162 - val_accuracy: 0.8832\n",
            "Epoch 99/100\n",
            "219/219 [==============================] - 2s 8ms/step - loss: 0.0938 - accuracy: 0.9649 - val_loss: 0.5055 - val_accuracy: 0.8912\n",
            "Epoch 100/100\n",
            "219/219 [==============================] - 2s 7ms/step - loss: 0.0950 - accuracy: 0.9658 - val_loss: 0.5752 - val_accuracy: 0.8912\n"
          ]
        }
      ]
    },
    {
      "cell_type": "markdown",
      "source": [
        "EVALUATE"
      ],
      "metadata": {
        "id": "QIMuiC_TKPJg"
      }
    },
    {
      "cell_type": "code",
      "source": [
        "train_loss_score=model.evaluate(X_train,y_train)\n",
        "test_loss_score=model.evaluate(X_test,y_test)\n",
        "print(train_loss_score)\n",
        "print(test_loss_score)"
      ],
      "metadata": {
        "colab": {
          "base_uri": "https://localhost:8080/"
        },
        "id": "dndZj09pJtO3",
        "outputId": "1ac45789-631f-443b-dfbf-45b57e4064ef"
      },
      "execution_count": 12,
      "outputs": [
        {
          "output_type": "stream",
          "name": "stdout",
          "text": [
            "219/219 [==============================] - 1s 4ms/step - loss: 0.0166 - accuracy: 0.9950\n",
            "28/28 [==============================] - 0s 7ms/step - loss: 0.5794 - accuracy: 0.8673\n",
            "[0.01655137538909912, 0.994989275932312]\n",
            "[0.5793670415878296, 0.8672769069671631]\n"
          ]
        }
      ]
    },
    {
      "cell_type": "markdown",
      "source": [
        "MATRİS"
      ],
      "metadata": {
        "id": "M3GNmk5KP6pI"
      }
    },
    {
      "cell_type": "code",
      "source": [
        "from sklearn.metrics import classification_report, confusion_matrix"
      ],
      "metadata": {
        "id": "t26g-4x7KVX-"
      },
      "execution_count": 20,
      "outputs": []
    },
    {
      "cell_type": "code",
      "source": [
        "import matplotlib.pyplot as plt\n",
        "from sklearn import metrics\n",
        "\n",
        "y_p = model.predict(X_test)\n",
        "\n",
        "actual = np.argmax(y_test, axis=1)\n",
        "predicted = np.argmax(y_p, axis=1)\n",
        "\n",
        "confusion_matrix = metrics.confusion_matrix(actual, predicted)\n",
        "\n",
        "cm_display = metrics.ConfusionMatrixDisplay(confusion_matrix = confusion_matrix)\n",
        "\n",
        "cm_display.plot()\n",
        "plt.show()"
      ],
      "metadata": {
        "colab": {
          "base_uri": "https://localhost:8080/",
          "height": 279
        },
        "id": "iVBgCU1RLbFd",
        "outputId": "fadc56a4-c9cb-4697-bf23-aa58f1c4a449"
      },
      "execution_count": 19,
      "outputs": [
        {
          "output_type": "display_data",
          "data": {
            "text/plain": [
              "<Figure size 432x288 with 2 Axes>"
            ],
            "image/png": "[encoded data removed]"
          },
          "metadata": {
            "needs_background": "light"
          }
        }
      ]
    },
    {
      "cell_type": "markdown",
      "source": [
        "GRAPHS"
      ],
      "metadata": {
        "id": "mbovAmuSQEAj"
      }
    },
    {
      "cell_type": "code",
      "source": [
        "import matplotlib.pyplot as plt\n",
        "plt.plot(history.history[\"loss\"],label = \"loss\",color=\"#660900\")\n",
        "plt.plot(history.history[\"val_loss\"],label = \"val_loss\",color=\"#FF7605\")\n",
        "plt.xlabel(\"EPOCH\")\n",
        "plt.ylabel(\"LOSS\")\n",
        "plt.legend()\n",
        "plt.grid(True)\n",
        "\n",
        "plt.show()"
      ],
      "metadata": {
        "colab": {
          "base_uri": "https://localhost:8080/",
          "height": 279
        },
        "id": "2bELFPa9M616",
        "outputId": "05dee85b-7848-4091-a503-e1673965d164"
      },
      "execution_count": 30,
      "outputs": [
        {
          "output_type": "display_data",
          "data": {
            "text/plain": [
              "<Figure size 432x288 with 1 Axes>"
            ],
            "image/png": "[encoded data removed]"
          },
          "metadata": {
            "needs_background": "light"
          }
        }
      ]
    },
    {
      "cell_type": "code",
      "source": [
        "plt.plot(history.history[\"accuracy\"] , label=\"accuracy\",color=\"#B861FF\")\n",
        "plt.plot(history.history[\"val_accuracy\"] , label = \"val_accuracy\",color=\"#14FFE0\")\n",
        "plt.xlabel(\"EPOCH\")\n",
        "plt.ylabel(\"ACCUARCY\")\n",
        "plt.legend()\n",
        "plt.grid(True)\n",
        "plt.show()"
      ],
      "metadata": {
        "colab": {
          "base_uri": "https://localhost:8080/",
          "height": 280
        },
        "id": "MXT-4zEhNFuA",
        "outputId": "1611b507-7685-4950-802f-5b8ec1e31070"
      },
      "execution_count": 31,
      "outputs": [
        {
          "output_type": "display_data",
          "data": {
            "text/plain": [
              "<Figure size 432x288 with 1 Axes>"
            ],
            "image/png": "[encoded data removed]"
          },
          "metadata": {
            "needs_background": "light"
          }
        }
      ]
    }
  ]
}
